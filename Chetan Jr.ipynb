{
 "cells": [
  {
   "cell_type": "code",
   "execution_count": 5,
   "metadata": {},
   "outputs": [
    {
     "name": "stdout",
     "output_type": "stream",
     "text": [
      "60\n"
     ]
    }
   ],
   "source": [
    "a=10\n",
    "b=50\n",
    "c=a+b\n",
    "print(c) #c has a value of my a and b"
   ]
  },
  {
   "cell_type": "code",
   "execution_count": 2,
   "metadata": {},
   "outputs": [
    {
     "name": "stdout",
     "output_type": "stream",
     "text": [
      "100\n"
     ]
    }
   ],
   "source": [
    "chetan=100\n",
    "print(chetan)"
   ]
  },
  {
   "cell_type": "code",
   "execution_count": null,
   "metadata": {},
   "outputs": [],
   "source": [
    "# represent comment in python"
   ]
  },
  {
   "cell_type": "markdown",
   "metadata": {},
   "source": [
    "# For loop"
   ]
  },
  {
   "cell_type": "code",
   "execution_count": 7,
   "metadata": {},
   "outputs": [
    {
     "name": "stdout",
     "output_type": "stream",
     "text": [
      "joel\n",
      "rishen\n",
      "jaganath\n"
     ]
    }
   ],
   "source": [
    "chetan=[\"joel\",\"rishen\",\"jaganath\"]\n",
    "for k in chetan:\n",
    "    print(k) "
   ]
  },
  {
   "cell_type": "code",
   "execution_count": 8,
   "metadata": {},
   "outputs": [
    {
     "name": "stdout",
     "output_type": "stream",
     "text": [
      "l\n",
      "e\n",
      "t\n",
      "s\n",
      "u\n",
      "p\n",
      "g\n",
      "r\n",
      "a\n",
      "d\n",
      "e\n",
      " \n",
      "j\n",
      "u\n",
      "n\n",
      "i\n",
      "o\n",
      "r\n"
     ]
    }
   ],
   "source": [
    "s=\"letsupgrade junior\"\n",
    "for i in s:\n",
    "    print(i)"
   ]
  },
  {
   "cell_type": "code",
   "execution_count": 9,
   "metadata": {},
   "outputs": [
    {
     "name": "stdout",
     "output_type": "stream",
     "text": [
      "1\n",
      "2\n",
      "3\n",
      "4\n"
     ]
    }
   ],
   "source": [
    "n=[1,2,3,4]    #tuple\n",
    "for k in n:    #after writing for next should be new variable to store the previous variable after in you should write previous variable which we created.\n",
    "    print(k)  #space is called as indentation in python"
   ]
  },
  {
   "cell_type": "code",
   "execution_count": 10,
   "metadata": {},
   "outputs": [
    {
     "name": "stdout",
     "output_type": "stream",
     "text": [
      "hey chetan\n",
      "456\n",
      "45.23\n"
     ]
    }
   ],
   "source": [
    "chetan=[\"hey chetan\",456,45.23]\n",
    "for amongus in chetan:\n",
    "    print(amongus)"
   ]
  },
  {
   "cell_type": "code",
   "execution_count": 13,
   "metadata": {},
   "outputs": [
    {
     "name": "stdout",
     "output_type": "stream",
     "text": [
      "1\n",
      "2\n",
      "3\n",
      "4\n",
      "5\n"
     ]
    }
   ],
   "source": [
    "n=[1,2,3,4,5]\n",
    "for k in n:\n",
    "    print(k)"
   ]
  },
  {
   "cell_type": "code",
   "execution_count": null,
   "metadata": {},
   "outputs": [],
   "source": [
    "range(5)=0,1,2,3,4\n",
    "range(5,9)=5,6,7,8\n",
    "range(56,62)=56,57,58----61\n",
    "range(100,106)=100-----105\n",
    "\n",
    "range(1,9,2)=1,,3,,5,,7, #my range value of (1,9)\n",
    "#now here 2 is called as step size\n",
    "range(5,9,1)=5,6,7,8\n",
    "range(2,9,3)=2,3,4,5,6,7,8\n"
   ]
  },
  {
   "cell_type": "code",
   "execution_count": 17,
   "metadata": {},
   "outputs": [
    {
     "name": "stdout",
     "output_type": "stream",
     "text": [
      "0\n",
      "1\n",
      "2\n",
      "3\n",
      "4\n"
     ]
    }
   ],
   "source": [
    "for z in range(5):\n",
    "    print(z)"
   ]
  },
  {
   "cell_type": "code",
   "execution_count": 18,
   "metadata": {},
   "outputs": [
    {
     "name": "stdout",
     "output_type": "stream",
     "text": [
      "5\n",
      "6\n",
      "7\n",
      "8\n"
     ]
    }
   ],
   "source": [
    "for z in range(5,9):\n",
    "    print(z)"
   ]
  },
  {
   "cell_type": "code",
   "execution_count": 19,
   "metadata": {},
   "outputs": [
    {
     "name": "stdout",
     "output_type": "stream",
     "text": [
      "5\n",
      "7\n"
     ]
    }
   ],
   "source": [
    "for z in range(5,9,2):\n",
    "    print(z)"
   ]
  },
  {
   "cell_type": "code",
   "execution_count": null,
   "metadata": {},
   "outputs": [],
   "source": [
    "#home work for chethan\n",
    "\n",
    "Print a range value (13,56,5)"
   ]
  },
  {
   "cell_type": "code",
   "execution_count": 1,
   "metadata": {},
   "outputs": [
    {
     "name": "stdout",
     "output_type": "stream",
     "text": [
      "5 ,7 ,9 ,11 ,13 ,15 ,17 ,19 ,"
     ]
    }
   ],
   "source": [
    "for z in range(5,20,2):\n",
    "    print(z,end=\" ,\") #end will gives the output in horizontal line."
   ]
  },
  {
   "cell_type": "code",
   "execution_count": 13,
   "metadata": {},
   "outputs": [
    {
     "name": "stdout",
     "output_type": "stream",
     "text": [
      "sum 23\n"
     ]
    }
   ],
   "source": [
    "#program to sum of number\n",
    "\n",
    "sum=0\n",
    "for a in range(5):   #(0,1,2,3,4)\n",
    "    sum=sum+a   #3+0=3+1=4+2=6+3=9+4=13\n",
    "print(\"sum\",sum) \n",
    "\n",
    "#10+13=23"
   ]
  },
  {
   "cell_type": "code",
   "execution_count": 16,
   "metadata": {},
   "outputs": [
    {
     "name": "stdout",
     "output_type": "stream",
     "text": [
      "sum 30\n"
     ]
    }
   ],
   "source": [
    "sum\n",
    "for c in range(5):   #(0,1,2,3,4)\n",
    "    sum=sum+c   #3+0=3+1=4+2=6+3=9+4=13\n",
    "print(\"sum\",sum)"
   ]
  },
  {
   "cell_type": "code",
   "execution_count": 21,
   "metadata": {},
   "outputs": [
    {
     "name": "stdout",
     "output_type": "stream",
     "text": [
      "13\n"
     ]
    }
   ],
   "source": [
    "a=4\n",
    "b=9\n",
    "c=4+9\n",
    "print(c)"
   ]
  },
  {
   "cell_type": "code",
   "execution_count": 20,
   "metadata": {},
   "outputs": [
    {
     "name": "stdout",
     "output_type": "stream",
     "text": [
      "14\n"
     ]
    }
   ],
   "source": [
    "a=5\n",
    "b=9\n",
    "d=5+9\n",
    "print(d)"
   ]
  },
  {
   "cell_type": "code",
   "execution_count": 22,
   "metadata": {},
   "outputs": [
    {
     "name": "stdout",
     "output_type": "stream",
     "text": [
      "13\n"
     ]
    }
   ],
   "source": [
    "print(c)"
   ]
  },
  {
   "cell_type": "code",
   "execution_count": 32,
   "metadata": {},
   "outputs": [
    {
     "name": "stdout",
     "output_type": "stream",
     "text": [
      "\n",
      "\n",
      "$ \n",
      "\n",
      "$ $ \n",
      "\n",
      "$ $ $ \n",
      "\n"
     ]
    }
   ],
   "source": [
    "#printing the stars\n",
    "#nested for\n",
    "\n",
    "for i in range(4):                      #0,1,2,3\n",
    "    for j in range(i):                  #star = 0 and q= blank\n",
    "        print(\"$\",end=\" \") \n",
    "    print(\"\\n\")                              #star = 1   and q= 0th position \n",
    "     "
   ]
  },
  {
   "cell_type": "code",
   "execution_count": 40,
   "metadata": {},
   "outputs": [
    {
     "name": "stdout",
     "output_type": "stream",
     "text": [
      "papergrid\n",
      "apple\n"
     ]
    }
   ],
   "source": [
    "#break\n",
    "\n",
    "favorites =[\"papergrid\",\"apple\",\"laptop\",\"friends\"]\n",
    "for chetan in favorites :\n",
    "    if(chetan==\"laptop\"):\n",
    "        break     #it stops the current execution\n",
    "    print(chetan) "
   ]
  },
  {
   "cell_type": "code",
   "execution_count": 1,
   "metadata": {},
   "outputs": [
    {
     "name": "stdout",
     "output_type": "stream",
     "text": [
      "amongus\n",
      "freefire\n",
      "gta\n"
     ]
    }
   ],
   "source": [
    "#continue\n",
    "\n",
    "games=[\"amongus\",\"pubg\",\"freefire\",\"gta\"]\n",
    "for i in games:\n",
    "    if(i==\"pubg\"):\n",
    "        continue\n",
    "    print(i)"
   ]
  },
  {
   "cell_type": "code",
   "execution_count": null,
   "metadata": {},
   "outputs": [],
   "source": [
    "#homework practise everycode write it by ur own and submit to my email."
   ]
  },
  {
   "cell_type": "code",
   "execution_count": 2,
   "metadata": {},
   "outputs": [
    {
     "name": "stdout",
     "output_type": "stream",
     "text": [
      "editing\n"
     ]
    }
   ],
   "source": [
    "hobbies =[\"editing\",\"drawing\",\"playing\"]\n",
    "for now in hobbies :\n",
    "    if(now==\"drawing\"):\n",
    "        break\n",
    "    print(now)"
   ]
  },
  {
   "cell_type": "code",
   "execution_count": 3,
   "metadata": {},
   "outputs": [
    {
     "name": "stdout",
     "output_type": "stream",
     "text": [
      "messi\n",
      "ronaldo\n",
      "pele\n"
     ]
    }
   ],
   "source": [
    "players=[\"messi\",\"ronaldo\",\"neymar\",\"pele\"]\n",
    "for q in players :\n",
    "    if(q==\"neymar\"):\n",
    "        continue\n",
    "    print(q)\n"
   ]
  },
  {
   "cell_type": "code",
   "execution_count": 12,
   "metadata": {},
   "outputs": [
    {
     "name": "stdout",
     "output_type": "stream",
     "text": [
      "sum 20\n"
     ]
    }
   ],
   "source": [
    "sum=10\n",
    "for c in range (5):\n",
    "    sum=sum+c\n",
    "print(\"sum\",sum)"
   ]
  },
  {
   "cell_type": "code",
   "execution_count": null,
   "metadata": {},
   "outputs": [],
   "source": []
  }
 ],
 "metadata": {
  "kernelspec": {
   "display_name": "Python 3",
   "language": "python",
   "name": "python3"
  },
  "language_info": {
   "codemirror_mode": {
    "name": "ipython",
    "version": 3
   },
   "file_extension": ".py",
   "mimetype": "text/x-python",
   "name": "python",
   "nbconvert_exporter": "python",
   "pygments_lexer": "ipython3",
   "version": "3.8.3"
  }
 },
 "nbformat": 4,
 "nbformat_minor": 2
}
